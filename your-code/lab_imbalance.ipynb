{
 "cells": [
  {
   "cell_type": "markdown",
   "metadata": {},
   "source": [
    "# Inbalanced Classes\n",
    "## In this lab, we are going to explore a case of imbalanced classes. \n",
    "\n",
    "\n",
    "Like we disussed in class, when we have noisy data, if we are not careful, we can end up fitting our model to the noise in the data and not the 'signal'-- the factors that actually determine the outcome. This is called overfitting, and results in good results in training, and in bad results when the model is applied to real data. Similarly, we could have a model that is too simplistic to accurately model the signal. This produces a model that doesnt work well (ever). \n"
   ]
  },
  {
   "cell_type": "markdown",
   "metadata": {},
   "source": [
    "### Note: before doing the first commit, make sure you don't include the large csv file, either by adding it to .gitignore, or by deleting it."
   ]
  },
  {
   "cell_type": "markdown",
   "metadata": {},
   "source": [
    "### First, download the data from: https://www.kaggle.com/ntnu-testimon/paysim1. Import the dataset and provide some discriptive statistics and plots. What do you think will be the important features in determining the outcome?\n",
    "### Note: don't use the entire dataset, use a sample instead, with n=100000 elements, so your computer doesn't freeze."
   ]
  },
  {
   "cell_type": "code",
   "execution_count": 210,
   "metadata": {},
   "outputs": [
    {
     "data": {
      "text/html": [
       "<div>\n",
       "<style scoped>\n",
       "    .dataframe tbody tr th:only-of-type {\n",
       "        vertical-align: middle;\n",
       "    }\n",
       "\n",
       "    .dataframe tbody tr th {\n",
       "        vertical-align: top;\n",
       "    }\n",
       "\n",
       "    .dataframe thead th {\n",
       "        text-align: right;\n",
       "    }\n",
       "</style>\n",
       "<table border=\"1\" class=\"dataframe\">\n",
       "  <thead>\n",
       "    <tr style=\"text-align: right;\">\n",
       "      <th></th>\n",
       "      <th>step</th>\n",
       "      <th>type</th>\n",
       "      <th>amount</th>\n",
       "      <th>nameOrig</th>\n",
       "      <th>oldbalanceOrg</th>\n",
       "      <th>newbalanceOrig</th>\n",
       "      <th>nameDest</th>\n",
       "      <th>oldbalanceDest</th>\n",
       "      <th>newbalanceDest</th>\n",
       "      <th>isFraud</th>\n",
       "      <th>isFlaggedFraud</th>\n",
       "    </tr>\n",
       "  </thead>\n",
       "  <tbody>\n",
       "    <tr>\n",
       "      <th>68381</th>\n",
       "      <td>9</td>\n",
       "      <td>CASH_OUT</td>\n",
       "      <td>62173.93</td>\n",
       "      <td>C266197257</td>\n",
       "      <td>0.00</td>\n",
       "      <td>0.00</td>\n",
       "      <td>C1383446722</td>\n",
       "      <td>1223818.33</td>\n",
       "      <td>1842410.62</td>\n",
       "      <td>0</td>\n",
       "      <td>0</td>\n",
       "    </tr>\n",
       "    <tr>\n",
       "      <th>57389</th>\n",
       "      <td>9</td>\n",
       "      <td>PAYMENT</td>\n",
       "      <td>21296.58</td>\n",
       "      <td>C1199629425</td>\n",
       "      <td>3721756.98</td>\n",
       "      <td>3700460.39</td>\n",
       "      <td>M57151879</td>\n",
       "      <td>0.00</td>\n",
       "      <td>0.00</td>\n",
       "      <td>0</td>\n",
       "      <td>0</td>\n",
       "    </tr>\n",
       "    <tr>\n",
       "      <th>112765</th>\n",
       "      <td>11</td>\n",
       "      <td>CASH_OUT</td>\n",
       "      <td>16474.46</td>\n",
       "      <td>C2104895719</td>\n",
       "      <td>472.00</td>\n",
       "      <td>0.00</td>\n",
       "      <td>C237594516</td>\n",
       "      <td>2441458.12</td>\n",
       "      <td>3253574.67</td>\n",
       "      <td>0</td>\n",
       "      <td>0</td>\n",
       "    </tr>\n",
       "    <tr>\n",
       "      <th>145921</th>\n",
       "      <td>11</td>\n",
       "      <td>CASH_IN</td>\n",
       "      <td>296912.16</td>\n",
       "      <td>C150313334</td>\n",
       "      <td>19561752.97</td>\n",
       "      <td>19858665.13</td>\n",
       "      <td>C353292294</td>\n",
       "      <td>989825.00</td>\n",
       "      <td>493943.55</td>\n",
       "      <td>0</td>\n",
       "      <td>0</td>\n",
       "    </tr>\n",
       "    <tr>\n",
       "      <th>170022</th>\n",
       "      <td>12</td>\n",
       "      <td>CASH_OUT</td>\n",
       "      <td>26743.78</td>\n",
       "      <td>C1027583845</td>\n",
       "      <td>6718.00</td>\n",
       "      <td>0.00</td>\n",
       "      <td>C895339976</td>\n",
       "      <td>0.00</td>\n",
       "      <td>26743.78</td>\n",
       "      <td>0</td>\n",
       "      <td>0</td>\n",
       "    </tr>\n",
       "  </tbody>\n",
       "</table>\n",
       "</div>"
      ],
      "text/plain": [
       "        step      type     amount     nameOrig  oldbalanceOrg  newbalanceOrig  \\\n",
       "68381      9  CASH_OUT   62173.93   C266197257           0.00            0.00   \n",
       "57389      9   PAYMENT   21296.58  C1199629425     3721756.98      3700460.39   \n",
       "112765    11  CASH_OUT   16474.46  C2104895719         472.00            0.00   \n",
       "145921    11   CASH_IN  296912.16   C150313334    19561752.97     19858665.13   \n",
       "170022    12  CASH_OUT   26743.78  C1027583845        6718.00            0.00   \n",
       "\n",
       "           nameDest  oldbalanceDest  newbalanceDest  isFraud  isFlaggedFraud  \n",
       "68381   C1383446722      1223818.33      1842410.62        0               0  \n",
       "57389     M57151879            0.00            0.00        0               0  \n",
       "112765   C237594516      2441458.12      3253574.67        0               0  \n",
       "145921   C353292294       989825.00       493943.55        0               0  \n",
       "170022   C895339976            0.00        26743.78        0               0  "
      ]
     },
     "execution_count": 210,
     "metadata": {},
     "output_type": "execute_result"
    }
   ],
   "source": [
    "import pandas as pd \n",
    "data = pd.read_csv('../your-code/data.csv',nrows=200000)\n",
    "data = data.sample(n=200000, replace = 'True')\n",
    "data.head()"
   ]
  },
  {
   "cell_type": "code",
   "execution_count": 211,
   "metadata": {},
   "outputs": [
    {
     "name": "stdout",
     "output_type": "stream",
     "text": [
      "<class 'pandas.core.frame.DataFrame'>\n",
      "Int64Index: 200000 entries, 68381 to 150639\n",
      "Data columns (total 11 columns):\n",
      " #   Column          Non-Null Count   Dtype  \n",
      "---  ------          --------------   -----  \n",
      " 0   step            200000 non-null  int64  \n",
      " 1   type            200000 non-null  object \n",
      " 2   amount          200000 non-null  float64\n",
      " 3   nameOrig        200000 non-null  object \n",
      " 4   oldbalanceOrg   200000 non-null  float64\n",
      " 5   newbalanceOrig  200000 non-null  float64\n",
      " 6   nameDest        200000 non-null  object \n",
      " 7   oldbalanceDest  200000 non-null  float64\n",
      " 8   newbalanceDest  200000 non-null  float64\n",
      " 9   isFraud         200000 non-null  int64  \n",
      " 10  isFlaggedFraud  200000 non-null  int64  \n",
      "dtypes: float64(5), int64(3), object(3)\n",
      "memory usage: 18.3+ MB\n"
     ]
    }
   ],
   "source": [
    "data.info()"
   ]
  },
  {
   "cell_type": "code",
   "execution_count": 213,
   "metadata": {},
   "outputs": [
    {
     "data": {
      "text/html": [
       "<div>\n",
       "<style scoped>\n",
       "    .dataframe tbody tr th:only-of-type {\n",
       "        vertical-align: middle;\n",
       "    }\n",
       "\n",
       "    .dataframe tbody tr th {\n",
       "        vertical-align: top;\n",
       "    }\n",
       "\n",
       "    .dataframe thead th {\n",
       "        text-align: right;\n",
       "    }\n",
       "</style>\n",
       "<table border=\"1\" class=\"dataframe\">\n",
       "  <thead>\n",
       "    <tr style=\"text-align: right;\">\n",
       "      <th></th>\n",
       "      <th>step</th>\n",
       "      <th>amount</th>\n",
       "      <th>oldbalanceOrg</th>\n",
       "      <th>newbalanceOrig</th>\n",
       "      <th>oldbalanceDest</th>\n",
       "      <th>newbalanceDest</th>\n",
       "      <th>isFraud</th>\n",
       "      <th>isFlaggedFraud</th>\n",
       "    </tr>\n",
       "  </thead>\n",
       "  <tbody>\n",
       "    <tr>\n",
       "      <th>count</th>\n",
       "      <td>200000.000000</td>\n",
       "      <td>2.000000e+05</td>\n",
       "      <td>2.000000e+05</td>\n",
       "      <td>2.000000e+05</td>\n",
       "      <td>2.000000e+05</td>\n",
       "      <td>2.000000e+05</td>\n",
       "      <td>200000.000000</td>\n",
       "      <td>200000.0</td>\n",
       "    </tr>\n",
       "    <tr>\n",
       "      <th>mean</th>\n",
       "      <td>10.066720</td>\n",
       "      <td>1.816130e+05</td>\n",
       "      <td>8.882458e+05</td>\n",
       "      <td>9.065910e+05</td>\n",
       "      <td>9.410728e+05</td>\n",
       "      <td>1.190310e+06</td>\n",
       "      <td>0.000735</td>\n",
       "      <td>0.0</td>\n",
       "    </tr>\n",
       "    <tr>\n",
       "      <th>std</th>\n",
       "      <td>2.118009</td>\n",
       "      <td>3.295849e+05</td>\n",
       "      <td>2.788686e+06</td>\n",
       "      <td>2.826056e+06</td>\n",
       "      <td>2.355666e+06</td>\n",
       "      <td>2.632848e+06</td>\n",
       "      <td>0.027101</td>\n",
       "      <td>0.0</td>\n",
       "    </tr>\n",
       "    <tr>\n",
       "      <th>min</th>\n",
       "      <td>1.000000</td>\n",
       "      <td>3.200000e-01</td>\n",
       "      <td>0.000000e+00</td>\n",
       "      <td>0.000000e+00</td>\n",
       "      <td>0.000000e+00</td>\n",
       "      <td>0.000000e+00</td>\n",
       "      <td>0.000000</td>\n",
       "      <td>0.0</td>\n",
       "    </tr>\n",
       "    <tr>\n",
       "      <th>25%</th>\n",
       "      <td>9.000000</td>\n",
       "      <td>1.210399e+04</td>\n",
       "      <td>0.000000e+00</td>\n",
       "      <td>0.000000e+00</td>\n",
       "      <td>0.000000e+00</td>\n",
       "      <td>0.000000e+00</td>\n",
       "      <td>0.000000</td>\n",
       "      <td>0.0</td>\n",
       "    </tr>\n",
       "    <tr>\n",
       "      <th>50%</th>\n",
       "      <td>10.000000</td>\n",
       "      <td>6.974100e+04</td>\n",
       "      <td>1.930750e+04</td>\n",
       "      <td>0.000000e+00</td>\n",
       "      <td>5.148693e+04</td>\n",
       "      <td>1.355940e+05</td>\n",
       "      <td>0.000000</td>\n",
       "      <td>0.0</td>\n",
       "    </tr>\n",
       "    <tr>\n",
       "      <th>75%</th>\n",
       "      <td>12.000000</td>\n",
       "      <td>2.300638e+05</td>\n",
       "      <td>1.946762e+05</td>\n",
       "      <td>2.305194e+05</td>\n",
       "      <td>7.723088e+05</td>\n",
       "      <td>1.195458e+06</td>\n",
       "      <td>0.000000</td>\n",
       "      <td>0.0</td>\n",
       "    </tr>\n",
       "    <tr>\n",
       "      <th>max</th>\n",
       "      <td>13.000000</td>\n",
       "      <td>1.000000e+07</td>\n",
       "      <td>3.893942e+07</td>\n",
       "      <td>3.894623e+07</td>\n",
       "      <td>3.903958e+07</td>\n",
       "      <td>3.904248e+07</td>\n",
       "      <td>1.000000</td>\n",
       "      <td>0.0</td>\n",
       "    </tr>\n",
       "  </tbody>\n",
       "</table>\n",
       "</div>"
      ],
      "text/plain": [
       "                step        amount  oldbalanceOrg  newbalanceOrig  \\\n",
       "count  200000.000000  2.000000e+05   2.000000e+05    2.000000e+05   \n",
       "mean       10.066720  1.816130e+05   8.882458e+05    9.065910e+05   \n",
       "std         2.118009  3.295849e+05   2.788686e+06    2.826056e+06   \n",
       "min         1.000000  3.200000e-01   0.000000e+00    0.000000e+00   \n",
       "25%         9.000000  1.210399e+04   0.000000e+00    0.000000e+00   \n",
       "50%        10.000000  6.974100e+04   1.930750e+04    0.000000e+00   \n",
       "75%        12.000000  2.300638e+05   1.946762e+05    2.305194e+05   \n",
       "max        13.000000  1.000000e+07   3.893942e+07    3.894623e+07   \n",
       "\n",
       "       oldbalanceDest  newbalanceDest        isFraud  isFlaggedFraud  \n",
       "count    2.000000e+05    2.000000e+05  200000.000000        200000.0  \n",
       "mean     9.410728e+05    1.190310e+06       0.000735             0.0  \n",
       "std      2.355666e+06    2.632848e+06       0.027101             0.0  \n",
       "min      0.000000e+00    0.000000e+00       0.000000             0.0  \n",
       "25%      0.000000e+00    0.000000e+00       0.000000             0.0  \n",
       "50%      5.148693e+04    1.355940e+05       0.000000             0.0  \n",
       "75%      7.723088e+05    1.195458e+06       0.000000             0.0  \n",
       "max      3.903958e+07    3.904248e+07       1.000000             0.0  "
      ]
     },
     "execution_count": 213,
     "metadata": {},
     "output_type": "execute_result"
    }
   ],
   "source": [
    "data.describe()"
   ]
  },
  {
   "cell_type": "code",
   "execution_count": 214,
   "metadata": {},
   "outputs": [
    {
     "data": {
      "text/plain": [
       "step                int64\n",
       "type               object\n",
       "amount            float64\n",
       "nameOrig           object\n",
       "oldbalanceOrg     float64\n",
       "newbalanceOrig    float64\n",
       "nameDest           object\n",
       "oldbalanceDest    float64\n",
       "newbalanceDest    float64\n",
       "isFraud             int64\n",
       "isFlaggedFraud      int64\n",
       "dtype: object"
      ]
     },
     "execution_count": 214,
     "metadata": {},
     "output_type": "execute_result"
    }
   ],
   "source": [
    "data.dtypes"
   ]
  },
  {
   "cell_type": "code",
   "execution_count": 215,
   "metadata": {},
   "outputs": [],
   "source": [
    "data.rename(columns={'step': 'Time', \n",
    "                     'type': 'Transaction_type',\n",
    "                     'amount': 'Amount',\n",
    "                     'nameOrig':'Origin',\n",
    "                     'oldbalanceOrg':'Origin_Balance_1', \n",
    "                     'newbalanceOrig':'Origin_Balance_2',\n",
    "                     'nameDest':'Recipient_Type',\n",
    "                     'oldbalanceDest':'Recipient_Balance_1',\n",
    "                     'newbalanceDest':'Recipient_Balance_2',\n",
    "                     'isFraud':'Fraud',\n",
    "                     'isFlaggedFraud':'Fraud_Flagged',\n",
    "                    }, inplace=True)"
   ]
  },
  {
   "cell_type": "code",
   "execution_count": 216,
   "metadata": {},
   "outputs": [
    {
     "data": {
      "text/plain": [
       "['Time',\n",
       " 'Transaction_type',\n",
       " 'Amount',\n",
       " 'Origin',\n",
       " 'Origin_Balance_1',\n",
       " 'Origin_Balance_2',\n",
       " 'Recipient_Type',\n",
       " 'Recipient_Balance_1',\n",
       " 'Recipient_Balance_2',\n",
       " 'Fraud',\n",
       " 'Fraud_Flagged']"
      ]
     },
     "execution_count": 216,
     "metadata": {},
     "output_type": "execute_result"
    }
   ],
   "source": [
    "columns_list = data.columns.tolist()\n",
    "columns_list # The column names were succesfully changed. "
   ]
  },
  {
   "cell_type": "markdown",
   "metadata": {},
   "source": [
    "### Data Explanation \n",
    "\n",
    "Understanding the set:\n",
    "1) (i)Step - maps a unit of time in the real world. \n",
    "In this case 1 step is 1 hour of time. Total steps 744 (30 days simulation).\n",
    "\n",
    "2) Other Labels: \n",
    "(ii) Type, (iii)Amount, (iv)NameOrig (v) oldbalanceOrg (vi) newbalanceOrig (vii) nameDest (viii)oldbalanceDest (ix) newbalanceDest (x) isFraud (xi) isFlaggedFraud"
   ]
  },
  {
   "cell_type": "markdown",
   "metadata": {},
   "source": [
    "### What is the distribution of the outcome? "
   ]
  },
  {
   "cell_type": "code",
   "execution_count": 188,
   "metadata": {},
   "outputs": [],
   "source": [
    "import seaborn as sns\n",
    "sns.pairplot(data) "
   ]
  },
  {
   "cell_type": "code",
   "execution_count": null,
   "metadata": {},
   "outputs": [],
   "source": [
    "\"\"\"\n",
    "No relevant information from the pairplot. \n",
    "\"\"\""
   ]
  },
  {
   "cell_type": "code",
   "execution_count": 231,
   "metadata": {},
   "outputs": [
    {
     "name": "stdout",
     "output_type": "stream",
     "text": [
      "The actual Fraud detected\n"
     ]
    },
    {
     "data": {
      "text/plain": [
       "0    199853\n",
       "1       147\n",
       "Name: Fraud, dtype: int64"
      ]
     },
     "execution_count": 231,
     "metadata": {},
     "output_type": "execute_result"
    }
   ],
   "source": [
    "print(\"The actual Fraud detected\")\n",
    "data['Fraud'].value_counts()"
   ]
  },
  {
   "cell_type": "markdown",
   "metadata": {},
   "source": [
    "### Clean the dataset. How are you going to integrate the time variable? Do you think the step (integer) coding in which it is given is appropriate?"
   ]
  },
  {
   "cell_type": "code",
   "execution_count": 12,
   "metadata": {},
   "outputs": [
    {
     "data": {
      "text/plain": [
       "'\\nSince there is no reference to timestamp() it is not possible to chage the unit steps to days. It will be \\npossible to change one hour or one step to 0.04 days but will not add any value. I suggest we keep the \\nsteps as an indicator or occurance of a particular instance. \\n\\nCould I groupby day ? \\n'"
      ]
     },
     "execution_count": 12,
     "metadata": {},
     "output_type": "execute_result"
    }
   ],
   "source": [
    "\"\"\"\n",
    "Since there is no reference to timestamp() it is not possible to chage the unit steps to days. It will be \n",
    "possible to change one hour or one step to 0.04 days but will not add any value. I suggest we keep the \n",
    "steps as an indicator or occurance of a particular instance. \n",
    "\n",
    "Could I groupby day ? \n",
    "\"\"\""
   ]
  },
  {
   "cell_type": "code",
   "execution_count": 218,
   "metadata": {},
   "outputs": [
    {
     "data": {
      "text/plain": [
       "False"
      ]
     },
     "execution_count": 218,
     "metadata": {},
     "output_type": "execute_result"
    },
    {
     "data": {
      "image/png": "[encoded data removed]",
      "text/plain": [
       "<Figure size 432x288 with 1 Axes>"
      ]
     },
     "metadata": {
      "needs_background": "light"
     },
     "output_type": "display_data"
    }
   ],
   "source": [
    "data['Time'].hist()\n",
    "data['Time'].value_counts() #Exploring the number of transactions per Time Stamp\n",
    "data.isnull().values.any() #False\n",
    "data.isna().values.any() #False"
   ]
  },
  {
   "cell_type": "code",
   "execution_count": 201,
   "metadata": {},
   "outputs": [
    {
     "data": {
      "text/plain": [
       "0    199845\n",
       "1       155\n",
       "Name: Fraud, dtype: int64"
      ]
     },
     "execution_count": 201,
     "metadata": {},
     "output_type": "execute_result"
    }
   ],
   "source": [
    "#Answering the question above, what is the distributionn of the Outcome. \n",
    "data['Fraud'].value_counts() #99% of the Data shows that transactions are non-fraudelent"
   ]
  },
  {
   "cell_type": "code",
   "execution_count": 190,
   "metadata": {},
   "outputs": [],
   "source": [
    "#Cleaning Data Set "
   ]
  },
  {
   "cell_type": "code",
   "execution_count": 219,
   "metadata": {},
   "outputs": [],
   "source": [
    "data.drop(columns = ['Fraud_Flagged'],inplace = True)"
   ]
  },
  {
   "cell_type": "code",
   "execution_count": 221,
   "metadata": {},
   "outputs": [
    {
     "data": {
      "text/plain": [
       "<matplotlib.axes._subplots.AxesSubplot at 0x172b9f430>"
      ]
     },
     "execution_count": 221,
     "metadata": {},
     "output_type": "execute_result"
    },
    {
     "data": {
      "image/png": "[encoded data removed]",
      "text/plain": [
       "<Figure size 720x720 with 2 Axes>"
      ]
     },
     "metadata": {
      "needs_background": "light"
     },
     "output_type": "display_data"
    }
   ],
   "source": [
    "import matplotlib.pyplot as plt\n",
    "corr = data.corr()\n",
    "fig, ax = plt.subplots(figsize=(10,10))   \n",
    "sns.heatmap(corr,annot = True, vmin=-1, vmax=1, center= 0,cmap= 'coolwarm',annot_kws={'size':12}) \n"
   ]
  },
  {
   "cell_type": "code",
   "execution_count": 225,
   "metadata": {},
   "outputs": [
    {
     "data": {
      "text/plain": [
       "<matplotlib.axes._subplots.AxesSubplot at 0x16bce0520>"
      ]
     },
     "execution_count": 225,
     "metadata": {},
     "output_type": "execute_result"
    },
    {
     "data": {
      "image/png": "[encoded data removed]",
      "text/plain": [
       "<Figure size 432x288 with 1 Axes>"
      ]
     },
     "metadata": {
      "needs_background": "light"
     },
     "output_type": "display_data"
    }
   ],
   "source": [
    "data['Transaction_type']& (data[\"Fraud\"] == 1.value_counts().plot(kind='bar')"
   ]
  },
  {
   "cell_type": "code",
   "execution_count": 235,
   "metadata": {},
   "outputs": [
    {
     "data": {
      "text/html": [
       "<div>\n",
       "<style scoped>\n",
       "    .dataframe tbody tr th:only-of-type {\n",
       "        vertical-align: middle;\n",
       "    }\n",
       "\n",
       "    .dataframe tbody tr th {\n",
       "        vertical-align: top;\n",
       "    }\n",
       "\n",
       "    .dataframe thead th {\n",
       "        text-align: right;\n",
       "    }\n",
       "</style>\n",
       "<table border=\"1\" class=\"dataframe\">\n",
       "  <thead>\n",
       "    <tr style=\"text-align: right;\">\n",
       "      <th></th>\n",
       "      <th>Time</th>\n",
       "      <th>Amount</th>\n",
       "      <th>Origin_Balance_1</th>\n",
       "      <th>Origin_Balance_2</th>\n",
       "      <th>Recipient_Balance_1</th>\n",
       "      <th>Recipient_Balance_2</th>\n",
       "      <th>Fraud</th>\n",
       "      <th>Merchant-Recipient</th>\n",
       "    </tr>\n",
       "    <tr>\n",
       "      <th>Transaction_type</th>\n",
       "      <th></th>\n",
       "      <th></th>\n",
       "      <th></th>\n",
       "      <th></th>\n",
       "      <th></th>\n",
       "      <th></th>\n",
       "      <th></th>\n",
       "      <th></th>\n",
       "    </tr>\n",
       "  </thead>\n",
       "  <tbody>\n",
       "    <tr>\n",
       "      <th>CASH_IN</th>\n",
       "      <td>423422</td>\n",
       "      <td>7.583014e+09</td>\n",
       "      <td>1.585671e+11</td>\n",
       "      <td>1.661465e+11</td>\n",
       "      <td>6.048689e+10</td>\n",
       "      <td>6.290661e+10</td>\n",
       "      <td>0</td>\n",
       "      <td>0.0</td>\n",
       "    </tr>\n",
       "    <tr>\n",
       "      <th>CASH_OUT</th>\n",
       "      <td>689571</td>\n",
       "      <td>1.353329e+10</td>\n",
       "      <td>5.656352e+09</td>\n",
       "      <td>3.321066e+09</td>\n",
       "      <td>9.031154e+10</td>\n",
       "      <td>1.175057e+11</td>\n",
       "      <td>79</td>\n",
       "      <td>0.0</td>\n",
       "    </tr>\n",
       "    <tr>\n",
       "      <th>DEBIT</th>\n",
       "      <td>14079</td>\n",
       "      <td>1.738739e+07</td>\n",
       "      <td>1.950767e+08</td>\n",
       "      <td>1.847762e+08</td>\n",
       "      <td>1.611821e+09</td>\n",
       "      <td>1.852816e+09</td>\n",
       "      <td>0</td>\n",
       "      <td>0.0</td>\n",
       "    </tr>\n",
       "    <tr>\n",
       "      <th>PAYMENT</th>\n",
       "      <td>717111</td>\n",
       "      <td>8.847724e+08</td>\n",
       "      <td>1.166169e+10</td>\n",
       "      <td>1.115598e+10</td>\n",
       "      <td>0.000000e+00</td>\n",
       "      <td>0.000000e+00</td>\n",
       "      <td>0</td>\n",
       "      <td>73160.0</td>\n",
       "    </tr>\n",
       "    <tr>\n",
       "      <th>TRANSFER</th>\n",
       "      <td>169161</td>\n",
       "      <td>1.430413e+10</td>\n",
       "      <td>1.568902e+09</td>\n",
       "      <td>5.098633e+08</td>\n",
       "      <td>3.580429e+10</td>\n",
       "      <td>5.579680e+10</td>\n",
       "      <td>68</td>\n",
       "      <td>0.0</td>\n",
       "    </tr>\n",
       "  </tbody>\n",
       "</table>\n",
       "</div>"
      ],
      "text/plain": [
       "                    Time        Amount  Origin_Balance_1  Origin_Balance_2  \\\n",
       "Transaction_type                                                             \n",
       "CASH_IN           423422  7.583014e+09      1.585671e+11      1.661465e+11   \n",
       "CASH_OUT          689571  1.353329e+10      5.656352e+09      3.321066e+09   \n",
       "DEBIT              14079  1.738739e+07      1.950767e+08      1.847762e+08   \n",
       "PAYMENT           717111  8.847724e+08      1.166169e+10      1.115598e+10   \n",
       "TRANSFER          169161  1.430413e+10      1.568902e+09      5.098633e+08   \n",
       "\n",
       "                  Recipient_Balance_1  Recipient_Balance_2  Fraud  \\\n",
       "Transaction_type                                                    \n",
       "CASH_IN                  6.048689e+10         6.290661e+10      0   \n",
       "CASH_OUT                 9.031154e+10         1.175057e+11     79   \n",
       "DEBIT                    1.611821e+09         1.852816e+09      0   \n",
       "PAYMENT                  0.000000e+00         0.000000e+00      0   \n",
       "TRANSFER                 3.580429e+10         5.579680e+10     68   \n",
       "\n",
       "                  Merchant-Recipient  \n",
       "Transaction_type                      \n",
       "CASH_IN                          0.0  \n",
       "CASH_OUT                         0.0  \n",
       "DEBIT                            0.0  \n",
       "PAYMENT                      73160.0  \n",
       "TRANSFER                         0.0  "
      ]
     },
     "execution_count": 235,
     "metadata": {},
     "output_type": "execute_result"
    }
   ],
   "source": [
    "data.groupby(['Transaction_type']).sum() \n",
    "#data.loc[(data['Transaction_type']) & (data[\"Fraud\"] == 1)].sum()"
   ]
  },
  {
   "cell_type": "code",
   "execution_count": 236,
   "metadata": {},
   "outputs": [
    {
     "data": {
      "text/plain": [
       "CASH_OUT    79\n",
       "TRANSFER    68\n",
       "Name: Transaction_type, dtype: int64"
      ]
     },
     "execution_count": 236,
     "metadata": {},
     "output_type": "execute_result"
    }
   ],
   "source": [
    "data[data['Fraud']==1]['Transaction_type'].value_counts()"
   ]
  },
  {
   "cell_type": "code",
   "execution_count": null,
   "metadata": {},
   "outputs": [],
   "source": [
    "#We can observe that 100% of the Frauds are originiated from Cash_Out & Transfers "
   ]
  },
  {
   "cell_type": "code",
   "execution_count": null,
   "metadata": {},
   "outputs": [],
   "source": [
    "#As stated earlier, merchant account numbers are denoted by the 'M' prefix and Customers by 'C'. By filtering onw \n",
    "#we can capture the other one.\n",
    "#We will capture this information in a boolean variable that the model can use as a feature."
   ]
  },
  {
   "cell_type": "code",
   "execution_count": 237,
   "metadata": {},
   "outputs": [
    {
     "data": {
      "text/html": [
       "<div>\n",
       "<style scoped>\n",
       "    .dataframe tbody tr th:only-of-type {\n",
       "        vertical-align: middle;\n",
       "    }\n",
       "\n",
       "    .dataframe tbody tr th {\n",
       "        vertical-align: top;\n",
       "    }\n",
       "\n",
       "    .dataframe thead th {\n",
       "        text-align: right;\n",
       "    }\n",
       "</style>\n",
       "<table border=\"1\" class=\"dataframe\">\n",
       "  <thead>\n",
       "    <tr style=\"text-align: right;\">\n",
       "      <th></th>\n",
       "      <th>Time</th>\n",
       "      <th>Transaction_type</th>\n",
       "      <th>Amount</th>\n",
       "      <th>Origin</th>\n",
       "      <th>Origin_Balance_1</th>\n",
       "      <th>Origin_Balance_2</th>\n",
       "      <th>Recipient_Type</th>\n",
       "      <th>Recipient_Balance_1</th>\n",
       "      <th>Recipient_Balance_2</th>\n",
       "      <th>Fraud</th>\n",
       "      <th>Merchant-Recipient</th>\n",
       "    </tr>\n",
       "  </thead>\n",
       "  <tbody>\n",
       "    <tr>\n",
       "      <th>43683</th>\n",
       "      <td>9</td>\n",
       "      <td>PAYMENT</td>\n",
       "      <td>18043.00</td>\n",
       "      <td>C1227880331</td>\n",
       "      <td>70.0</td>\n",
       "      <td>0.00</td>\n",
       "      <td>M1158485775</td>\n",
       "      <td>0.00</td>\n",
       "      <td>0.00</td>\n",
       "      <td>0</td>\n",
       "      <td>True</td>\n",
       "    </tr>\n",
       "    <tr>\n",
       "      <th>68734</th>\n",
       "      <td>9</td>\n",
       "      <td>PAYMENT</td>\n",
       "      <td>32451.45</td>\n",
       "      <td>C1579402089</td>\n",
       "      <td>223576.0</td>\n",
       "      <td>191124.55</td>\n",
       "      <td>M117068990</td>\n",
       "      <td>0.00</td>\n",
       "      <td>0.00</td>\n",
       "      <td>0</td>\n",
       "      <td>True</td>\n",
       "    </tr>\n",
       "    <tr>\n",
       "      <th>39761</th>\n",
       "      <td>9</td>\n",
       "      <td>CASH_IN</td>\n",
       "      <td>121968.06</td>\n",
       "      <td>C494526557</td>\n",
       "      <td>21320.0</td>\n",
       "      <td>143288.06</td>\n",
       "      <td>C873852158</td>\n",
       "      <td>877894.09</td>\n",
       "      <td>660476.37</td>\n",
       "      <td>0</td>\n",
       "      <td>False</td>\n",
       "    </tr>\n",
       "    <tr>\n",
       "      <th>5061</th>\n",
       "      <td>5</td>\n",
       "      <td>PAYMENT</td>\n",
       "      <td>5576.30</td>\n",
       "      <td>C1485318803</td>\n",
       "      <td>2797.0</td>\n",
       "      <td>0.00</td>\n",
       "      <td>M367035925</td>\n",
       "      <td>0.00</td>\n",
       "      <td>0.00</td>\n",
       "      <td>0</td>\n",
       "      <td>True</td>\n",
       "    </tr>\n",
       "    <tr>\n",
       "      <th>38293</th>\n",
       "      <td>9</td>\n",
       "      <td>PAYMENT</td>\n",
       "      <td>12431.92</td>\n",
       "      <td>C188073697</td>\n",
       "      <td>14238.0</td>\n",
       "      <td>1806.08</td>\n",
       "      <td>M2022295907</td>\n",
       "      <td>0.00</td>\n",
       "      <td>0.00</td>\n",
       "      <td>0</td>\n",
       "      <td>True</td>\n",
       "    </tr>\n",
       "    <tr>\n",
       "      <th>22884</th>\n",
       "      <td>8</td>\n",
       "      <td>TRANSFER</td>\n",
       "      <td>588630.55</td>\n",
       "      <td>C269891184</td>\n",
       "      <td>642.0</td>\n",
       "      <td>0.00</td>\n",
       "      <td>C1692434834</td>\n",
       "      <td>9316.00</td>\n",
       "      <td>167038.38</td>\n",
       "      <td>0</td>\n",
       "      <td>False</td>\n",
       "    </tr>\n",
       "    <tr>\n",
       "      <th>191570</th>\n",
       "      <td>13</td>\n",
       "      <td>CASH_OUT</td>\n",
       "      <td>214235.65</td>\n",
       "      <td>C796228819</td>\n",
       "      <td>3115.0</td>\n",
       "      <td>0.00</td>\n",
       "      <td>C1354418670</td>\n",
       "      <td>66784.68</td>\n",
       "      <td>281020.32</td>\n",
       "      <td>0</td>\n",
       "      <td>False</td>\n",
       "    </tr>\n",
       "    <tr>\n",
       "      <th>189483</th>\n",
       "      <td>13</td>\n",
       "      <td>CASH_OUT</td>\n",
       "      <td>65392.57</td>\n",
       "      <td>C469034125</td>\n",
       "      <td>7070.0</td>\n",
       "      <td>0.00</td>\n",
       "      <td>C248688615</td>\n",
       "      <td>876565.57</td>\n",
       "      <td>941958.15</td>\n",
       "      <td>0</td>\n",
       "      <td>False</td>\n",
       "    </tr>\n",
       "    <tr>\n",
       "      <th>56987</th>\n",
       "      <td>9</td>\n",
       "      <td>CASH_OUT</td>\n",
       "      <td>80159.60</td>\n",
       "      <td>C1278246313</td>\n",
       "      <td>0.0</td>\n",
       "      <td>0.00</td>\n",
       "      <td>C1636526944</td>\n",
       "      <td>408505.74</td>\n",
       "      <td>2383700.61</td>\n",
       "      <td>0</td>\n",
       "      <td>False</td>\n",
       "    </tr>\n",
       "    <tr>\n",
       "      <th>43756</th>\n",
       "      <td>9</td>\n",
       "      <td>PAYMENT</td>\n",
       "      <td>5914.58</td>\n",
       "      <td>C1833203424</td>\n",
       "      <td>36721.0</td>\n",
       "      <td>30806.42</td>\n",
       "      <td>M1580958696</td>\n",
       "      <td>0.00</td>\n",
       "      <td>0.00</td>\n",
       "      <td>0</td>\n",
       "      <td>True</td>\n",
       "    </tr>\n",
       "  </tbody>\n",
       "</table>\n",
       "</div>"
      ],
      "text/plain": [
       "        Time Transaction_type     Amount       Origin  Origin_Balance_1  \\\n",
       "43683      9          PAYMENT   18043.00  C1227880331              70.0   \n",
       "68734      9          PAYMENT   32451.45  C1579402089          223576.0   \n",
       "39761      9          CASH_IN  121968.06   C494526557           21320.0   \n",
       "5061       5          PAYMENT    5576.30  C1485318803            2797.0   \n",
       "38293      9          PAYMENT   12431.92   C188073697           14238.0   \n",
       "22884      8         TRANSFER  588630.55   C269891184             642.0   \n",
       "191570    13         CASH_OUT  214235.65   C796228819            3115.0   \n",
       "189483    13         CASH_OUT   65392.57   C469034125            7070.0   \n",
       "56987      9         CASH_OUT   80159.60  C1278246313               0.0   \n",
       "43756      9          PAYMENT    5914.58  C1833203424           36721.0   \n",
       "\n",
       "        Origin_Balance_2 Recipient_Type  Recipient_Balance_1  \\\n",
       "43683               0.00    M1158485775                 0.00   \n",
       "68734          191124.55     M117068990                 0.00   \n",
       "39761          143288.06     C873852158            877894.09   \n",
       "5061                0.00     M367035925                 0.00   \n",
       "38293            1806.08    M2022295907                 0.00   \n",
       "22884               0.00    C1692434834              9316.00   \n",
       "191570              0.00    C1354418670             66784.68   \n",
       "189483              0.00     C248688615            876565.57   \n",
       "56987               0.00    C1636526944            408505.74   \n",
       "43756           30806.42    M1580958696                 0.00   \n",
       "\n",
       "        Recipient_Balance_2  Fraud  Merchant-Recipient  \n",
       "43683                  0.00      0                True  \n",
       "68734                  0.00      0                True  \n",
       "39761             660476.37      0               False  \n",
       "5061                   0.00      0                True  \n",
       "38293                  0.00      0                True  \n",
       "22884             167038.38      0               False  \n",
       "191570            281020.32      0               False  \n",
       "189483            941958.15      0               False  \n",
       "56987            2383700.61      0               False  \n",
       "43756                  0.00      0                True  "
      ]
     },
     "execution_count": 237,
     "metadata": {},
     "output_type": "execute_result"
    }
   ],
   "source": [
    "data['Merchant-Recipient'] = data['Recipient_Type'].str.contains('M')\n",
    "data.sample(10)"
   ]
  },
  {
   "cell_type": "code",
   "execution_count": 239,
   "metadata": {},
   "outputs": [
    {
     "data": {
      "text/html": [
       "<div>\n",
       "<style scoped>\n",
       "    .dataframe tbody tr th:only-of-type {\n",
       "        vertical-align: middle;\n",
       "    }\n",
       "\n",
       "    .dataframe tbody tr th {\n",
       "        vertical-align: top;\n",
       "    }\n",
       "\n",
       "    .dataframe thead th {\n",
       "        text-align: right;\n",
       "    }\n",
       "</style>\n",
       "<table border=\"1\" class=\"dataframe\">\n",
       "  <thead>\n",
       "    <tr style=\"text-align: right;\">\n",
       "      <th></th>\n",
       "      <th>Time</th>\n",
       "      <th>Transaction_type</th>\n",
       "      <th>Amount</th>\n",
       "      <th>Origin</th>\n",
       "      <th>Origin_Balance_1</th>\n",
       "      <th>Origin_Balance_2</th>\n",
       "      <th>Recipient_Type</th>\n",
       "      <th>Recipient_Balance_1</th>\n",
       "      <th>Recipient_Balance_2</th>\n",
       "      <th>Fraud</th>\n",
       "      <th>Merchant-Recipient</th>\n",
       "    </tr>\n",
       "  </thead>\n",
       "  <tbody>\n",
       "  </tbody>\n",
       "</table>\n",
       "</div>"
      ],
      "text/plain": [
       "Empty DataFrame\n",
       "Columns: [Time, Transaction_type, Amount, Origin, Origin_Balance_1, Origin_Balance_2, Recipient_Type, Recipient_Balance_1, Recipient_Balance_2, Fraud, Merchant-Recipient]\n",
       "Index: []"
      ]
     },
     "execution_count": 239,
     "metadata": {},
     "output_type": "execute_result"
    }
   ],
   "source": [
    "data.loc[(data[\"Merchant-Recipient\"] == True) & (data[\"Fraud\"] == 1)] \n",
    "#There are no Frauds to Merchant, since the Frauds are Cash Out or Transfers. "
   ]
  },
  {
   "cell_type": "code",
   "execution_count": 240,
   "metadata": {},
   "outputs": [
    {
     "data": {
      "text/plain": [
       "(147, 11)"
      ]
     },
     "execution_count": 240,
     "metadata": {},
     "output_type": "execute_result"
    }
   ],
   "source": [
    "data.loc[(data[\"Merchant-Recipient\"] == False) & (data[\"Fraud\"] == 1)].shape\n",
    "\n",
    "#Merchant False means that the Customer = True, \n",
    "#as the Recipient of the Fraud. 155 incidents and all are related to the customers. \n",
    "#Just to verify I filter the customers data below. "
   ]
  },
  {
   "cell_type": "code",
   "execution_count": 244,
   "metadata": {},
   "outputs": [
    {
     "data": {
      "text/html": [
       "<div>\n",
       "<style scoped>\n",
       "    .dataframe tbody tr th:only-of-type {\n",
       "        vertical-align: middle;\n",
       "    }\n",
       "\n",
       "    .dataframe tbody tr th {\n",
       "        vertical-align: top;\n",
       "    }\n",
       "\n",
       "    .dataframe thead th {\n",
       "        text-align: right;\n",
       "    }\n",
       "</style>\n",
       "<table border=\"1\" class=\"dataframe\">\n",
       "  <thead>\n",
       "    <tr style=\"text-align: right;\">\n",
       "      <th></th>\n",
       "      <th>Time</th>\n",
       "      <th>Amount</th>\n",
       "      <th>Origin</th>\n",
       "      <th>Origin_Balance_1</th>\n",
       "      <th>Origin_Balance_2</th>\n",
       "      <th>Recipient_Type</th>\n",
       "      <th>Recipient_Balance_1</th>\n",
       "      <th>Recipient_Balance_2</th>\n",
       "      <th>Fraud</th>\n",
       "      <th>Merchant-Recipient</th>\n",
       "      <th>Transaction_type_CASH_IN</th>\n",
       "      <th>Transaction_type_CASH_OUT</th>\n",
       "      <th>Transaction_type_DEBIT</th>\n",
       "      <th>Transaction_type_PAYMENT</th>\n",
       "      <th>Transaction_type_TRANSFER</th>\n",
       "    </tr>\n",
       "  </thead>\n",
       "  <tbody>\n",
       "    <tr>\n",
       "      <th>68381</th>\n",
       "      <td>9</td>\n",
       "      <td>62173.93</td>\n",
       "      <td>C266197257</td>\n",
       "      <td>0.00</td>\n",
       "      <td>0.00</td>\n",
       "      <td>C1383446722</td>\n",
       "      <td>1223818.33</td>\n",
       "      <td>1842410.62</td>\n",
       "      <td>0</td>\n",
       "      <td>False</td>\n",
       "      <td>0</td>\n",
       "      <td>1</td>\n",
       "      <td>0</td>\n",
       "      <td>0</td>\n",
       "      <td>0</td>\n",
       "    </tr>\n",
       "    <tr>\n",
       "      <th>57389</th>\n",
       "      <td>9</td>\n",
       "      <td>21296.58</td>\n",
       "      <td>C1199629425</td>\n",
       "      <td>3721756.98</td>\n",
       "      <td>3700460.39</td>\n",
       "      <td>M57151879</td>\n",
       "      <td>0.00</td>\n",
       "      <td>0.00</td>\n",
       "      <td>0</td>\n",
       "      <td>True</td>\n",
       "      <td>0</td>\n",
       "      <td>0</td>\n",
       "      <td>0</td>\n",
       "      <td>1</td>\n",
       "      <td>0</td>\n",
       "    </tr>\n",
       "    <tr>\n",
       "      <th>112765</th>\n",
       "      <td>11</td>\n",
       "      <td>16474.46</td>\n",
       "      <td>C2104895719</td>\n",
       "      <td>472.00</td>\n",
       "      <td>0.00</td>\n",
       "      <td>C237594516</td>\n",
       "      <td>2441458.12</td>\n",
       "      <td>3253574.67</td>\n",
       "      <td>0</td>\n",
       "      <td>False</td>\n",
       "      <td>0</td>\n",
       "      <td>1</td>\n",
       "      <td>0</td>\n",
       "      <td>0</td>\n",
       "      <td>0</td>\n",
       "    </tr>\n",
       "    <tr>\n",
       "      <th>145921</th>\n",
       "      <td>11</td>\n",
       "      <td>296912.16</td>\n",
       "      <td>C150313334</td>\n",
       "      <td>19561752.97</td>\n",
       "      <td>19858665.13</td>\n",
       "      <td>C353292294</td>\n",
       "      <td>989825.00</td>\n",
       "      <td>493943.55</td>\n",
       "      <td>0</td>\n",
       "      <td>False</td>\n",
       "      <td>1</td>\n",
       "      <td>0</td>\n",
       "      <td>0</td>\n",
       "      <td>0</td>\n",
       "      <td>0</td>\n",
       "    </tr>\n",
       "    <tr>\n",
       "      <th>170022</th>\n",
       "      <td>12</td>\n",
       "      <td>26743.78</td>\n",
       "      <td>C1027583845</td>\n",
       "      <td>6718.00</td>\n",
       "      <td>0.00</td>\n",
       "      <td>C895339976</td>\n",
       "      <td>0.00</td>\n",
       "      <td>26743.78</td>\n",
       "      <td>0</td>\n",
       "      <td>False</td>\n",
       "      <td>0</td>\n",
       "      <td>1</td>\n",
       "      <td>0</td>\n",
       "      <td>0</td>\n",
       "      <td>0</td>\n",
       "    </tr>\n",
       "  </tbody>\n",
       "</table>\n",
       "</div>"
      ],
      "text/plain": [
       "        Time     Amount       Origin  Origin_Balance_1  Origin_Balance_2  \\\n",
       "68381      9   62173.93   C266197257              0.00              0.00   \n",
       "57389      9   21296.58  C1199629425        3721756.98        3700460.39   \n",
       "112765    11   16474.46  C2104895719            472.00              0.00   \n",
       "145921    11  296912.16   C150313334       19561752.97       19858665.13   \n",
       "170022    12   26743.78  C1027583845           6718.00              0.00   \n",
       "\n",
       "       Recipient_Type  Recipient_Balance_1  Recipient_Balance_2  Fraud  \\\n",
       "68381     C1383446722           1223818.33           1842410.62      0   \n",
       "57389       M57151879                 0.00                 0.00      0   \n",
       "112765     C237594516           2441458.12           3253574.67      0   \n",
       "145921     C353292294            989825.00            493943.55      0   \n",
       "170022     C895339976                 0.00             26743.78      0   \n",
       "\n",
       "        Merchant-Recipient  Transaction_type_CASH_IN  \\\n",
       "68381                False                         0   \n",
       "57389                 True                         0   \n",
       "112765               False                         0   \n",
       "145921               False                         1   \n",
       "170022               False                         0   \n",
       "\n",
       "        Transaction_type_CASH_OUT  Transaction_type_DEBIT  \\\n",
       "68381                           1                       0   \n",
       "57389                           0                       0   \n",
       "112765                          1                       0   \n",
       "145921                          0                       0   \n",
       "170022                          1                       0   \n",
       "\n",
       "        Transaction_type_PAYMENT  Transaction_type_TRANSFER  \n",
       "68381                          0                          0  \n",
       "57389                          1                          0  \n",
       "112765                         0                          0  \n",
       "145921                         0                          0  \n",
       "170022                         0                          0  "
      ]
     },
     "execution_count": 244,
     "metadata": {},
     "output_type": "execute_result"
    }
   ],
   "source": [
    "data_ft = pd.get_dummies(data, columns=['Transaction_type']) #Encoding Transaction types\n",
    "data_ft.head()"
   ]
  },
  {
   "cell_type": "code",
   "execution_count": 246,
   "metadata": {},
   "outputs": [
    {
     "data": {
      "text/plain": [
       "Index(['Time', 'Amount', 'Origin', 'Origin_Balance_1', 'Origin_Balance_2',\n",
       "       'Recipient_Type', 'Recipient_Balance_1', 'Recipient_Balance_2', 'Fraud',\n",
       "       'Merchant-Recipient', 'Transaction_type_CASH_IN',\n",
       "       'Transaction_type_CASH_OUT', 'Transaction_type_DEBIT',\n",
       "       'Transaction_type_PAYMENT', 'Transaction_type_TRANSFER'],\n",
       "      dtype='object')"
      ]
     },
     "execution_count": 246,
     "metadata": {},
     "output_type": "execute_result"
    }
   ],
   "source": [
    "data_ft.columns"
   ]
  },
  {
   "cell_type": "code",
   "execution_count": 258,
   "metadata": {},
   "outputs": [],
   "source": [
    "#I select the features to be evaluated in the model. I keep all, except for Fraud, the target variable \n",
    "# as well as Customer_Recipient. \n",
    "features = ['Time', \n",
    "             'Amount', \n",
    "             'Origin_Balance_1', \n",
    "             'Origin_Balance_2',\n",
    "             'Recipient_Balance_1', \n",
    "             'Recipient_Balance_2',\n",
    "             'Merchant-Recipient', \n",
    "             'Transaction_type_CASH_IN',\n",
    "             'Transaction_type_CASH_OUT',\n",
    "             'Transaction_type_DEBIT',\n",
    "             'Transaction_type_PAYMENT',\n",
    "             'Transaction_type_TRANSFER']\n",
    "            \n",
    "label =  ['Fraud']"
   ]
  },
  {
   "cell_type": "code",
   "execution_count": null,
   "metadata": {},
   "outputs": [],
   "source": [
    "\"\"\"\n",
    "What does each column mean?\n",
    "Any categorical data to convert?\n",
    "Any missing data to remove?\n",
    "Column collinearity - any high correlations?\n",
    "Descriptive statistics - any outliers to remove?\n",
    "Column-wise data distribution - is the distribution skewed?\n",
    "Etc.\n",
    "\"\"\""
   ]
  },
  {
   "cell_type": "code",
   "execution_count": null,
   "metadata": {},
   "outputs": [],
   "source": [
    "#Oversample the minority class , as model will favour the majority class. "
   ]
  },
  {
   "cell_type": "code",
   "execution_count": 259,
   "metadata": {},
   "outputs": [],
   "source": [
    "data_ml = pd.DataFrame(data_ft)"
   ]
  },
  {
   "cell_type": "code",
   "execution_count": 260,
   "metadata": {},
   "outputs": [],
   "source": [
    "#Separate the input and training sets \n",
    "X = data_ml[features]\n",
    "y = data_ml[label]"
   ]
  },
  {
   "cell_type": "code",
   "execution_count": 338,
   "metadata": {},
   "outputs": [],
   "source": [
    "from sklearn.utils import resample\n",
    "from sklearn.linear_model import LogisticRegression\n",
    "from sklearn.model_selection import train_test_split\n",
    "from sklearn.metrics import precision_score, recall_score, f1_score, roc_auc_score, accuracy_score, classification_report\n",
    "import warnings"
   ]
  },
  {
   "cell_type": "code",
   "execution_count": 307,
   "metadata": {},
   "outputs": [
    {
     "name": "stdout",
     "output_type": "stream",
     "text": [
      "Number Fraud transactions X_train dataset:  (140000, 12)\n",
      "Number Fraud transactions y_train dataset:  (140000, 1)\n",
      "Number Fraud transactions X_test dataset:  (60000, 12)\n",
      "Number Fraud transactions y_test dataset:  (60000, 1)\n"
     ]
    }
   ],
   "source": [
    "from imblearn.over_sampling import SMOTE\n",
    "\n",
    "X_train, X_test, y_train, y_test = train_test_split(X, y, test_size=0.3, random_state=0)\n",
    "\n",
    "print(\"Number Fraud transactions X_train dataset: \", X_train.shape)\n",
    "print(\"Number Fraud transactions y_train dataset: \", y_train.shape)\n",
    "print(\"Number Fraud transactions X_test dataset: \", X_test.shape)\n",
    "print(\"Number Fraud transactions y_test dataset: \", y_test.shape)"
   ]
  },
  {
   "cell_type": "code",
   "execution_count": 315,
   "metadata": {},
   "outputs": [
    {
     "name": "stdout",
     "output_type": "stream",
     "text": [
      "Before OverSampling, counts of label '1': Fraud    93\n",
      "dtype: int64\n",
      "Before OverSampling, counts of label '0': Fraud    139907\n",
      "dtype: int64\n"
     ]
    }
   ],
   "source": [
    "print(\"Before OverSampling, counts of label '1': {}\".format((y_train==1).sum()))\n",
    "print(\"Before OverSampling, counts of label '0': {}\".format((y_train==0).sum()))\n"
   ]
  },
  {
   "cell_type": "code",
   "execution_count": 312,
   "metadata": {},
   "outputs": [
    {
     "name": "stdout",
     "output_type": "stream",
     "text": [
      "After OverSampling, counts of label '1': (279814, 12)\n",
      "After OverSampling, counts of label '0': (279814, 1)\n"
     ]
    }
   ],
   "source": [
    "sm = SMOTE(random_state=27)\n",
    "X_train_res, y_train_res = sm.fit_resample(X_train, y_train)\n",
    "\n",
    "print(\"Before OverSampling, counts of label '1': {}\".format((X_train_res==1).shape))\n",
    "print(\"Before OverSampling, counts of label '0': {}\".format((y_train==0).shape))"
   ]
  },
  {
   "cell_type": "code",
   "execution_count": 313,
   "metadata": {},
   "outputs": [
    {
     "name": "stdout",
     "output_type": "stream",
     "text": [
      "Before OverSampling, counts of label '1': Fraud    139907\n",
      "dtype: int64\n",
      "Before OverSampling, counts of label '0': Fraud    139907\n",
      "dtype: int64\n"
     ]
    }
   ],
   "source": [
    "print(\"After OverSampling, counts of label '1': {}\".format((y_train_res==1).sum()))\n",
    "print(\"After OverSampling, counts of label '0': {}\".format((y_train_res==0).sum()))"
   ]
  },
  {
   "cell_type": "code",
   "execution_count": 62,
   "metadata": {},
   "outputs": [],
   "source": [
    "#concatenate trainning data back together \n",
    "X = pd.concat([X_train,y_train],axis =1)\n",
    "\n",
    "#separate minority and majority classes \n",
    "Not_Fraud = new_data[new_data.Fraud == 0]\n",
    "Fraud = new_data[new_data.Fraud == 1]\n",
    "\n",
    "#unsample minority \n",
    "fraud_upsampled = resample(Fraud, replace = True, n_samples = len(Not_Fraud),random_state = 27)\n"
   ]
  },
  {
   "cell_type": "code",
   "execution_count": 63,
   "metadata": {},
   "outputs": [
    {
     "data": {
      "text/plain": [
       "(199858, 11)"
      ]
     },
     "execution_count": 63,
     "metadata": {},
     "output_type": "execute_result"
    }
   ],
   "source": [
    "Not_Fraud.shape"
   ]
  },
  {
   "cell_type": "code",
   "execution_count": 64,
   "metadata": {},
   "outputs": [
    {
     "data": {
      "text/plain": [
       "0    199858\n",
       "1       142\n",
       "Name: Fraud, dtype: int64"
      ]
     },
     "execution_count": 64,
     "metadata": {},
     "output_type": "execute_result"
    }
   ],
   "source": [
    "upsampled_data = pd.concat([Not_Fraud,Fraud])\n",
    "upsampled_data.Fraud.value_counts()"
   ]
  },
  {
   "cell_type": "markdown",
   "metadata": {},
   "source": [
    "### Run a logisitc regression classifier and evaluate its accuracy."
   ]
  },
  {
   "cell_type": "code",
   "execution_count": 324,
   "metadata": {},
   "outputs": [
    {
     "name": "stderr",
     "output_type": "stream",
     "text": [
      "/Users/jossuebangos/opt/anaconda3/lib/python3.8/site-packages/sklearn/utils/validation.py:63: DataConversionWarning: A column-vector y was passed when a 1d array was expected. Please change the shape of y to (n_samples, ), for example using ravel().\n",
      "  return f(*args, **kwargs)\n"
     ]
    },
    {
     "data": {
      "text/plain": [
       "LogisticRegression(max_iter=2000, random_state=10)"
      ]
     },
     "execution_count": 324,
     "metadata": {},
     "output_type": "execute_result"
    }
   ],
   "source": [
    "# Training my models\n",
    "log_reg = LogisticRegression(random_state=10, solver = 'lbfgs', max_iter = 2000)\n",
    "log_reg.fit(X_train_res, y_train_res)\n"
   ]
  },
  {
   "cell_type": "code",
   "execution_count": 320,
   "metadata": {},
   "outputs": [],
   "source": [
    "# predict - Predict class labels for samples in X\n",
    "log_reg.predict(X_train_res)\n",
    "y_pred = log_reg.predict(X_train_res)\n",
    "\n",
    "# predict_proba - Probability estimates\n",
    "pred_proba = log_reg.predict_proba(X_train_res)\n"
   ]
  },
  {
   "cell_type": "code",
   "execution_count": 322,
   "metadata": {},
   "outputs": [
    {
     "name": "stdout",
     "output_type": "stream",
     "text": [
      "The Training Accuracy is:  0.9250144739005196\n",
      "The Testing Accuracy is:  0.92785\n",
      "              precision    recall  f1-score   support\n",
      "\n",
      "           0       0.92      0.93      0.93    139907\n",
      "           1       0.93      0.92      0.92    139907\n",
      "\n",
      "    accuracy                           0.93    279814\n",
      "   macro avg       0.93      0.93      0.93    279814\n",
      "weighted avg       0.93      0.93      0.93    279814\n",
      "\n"
     ]
    }
   ],
   "source": [
    "print(\"The Training Accuracy is: \", log_reg.score(X_train_res, y_train_res))\n",
    "# Accuracy on Test\n",
    "print(\"The Testing Accuracy is: \", log_reg.score(X_test, y_test))\n",
    "# Classification Report\n",
    "print(classification_report(y_train_res, y_pred))"
   ]
  },
  {
   "cell_type": "code",
   "execution_count": null,
   "metadata": {},
   "outputs": [],
   "source": [
    "#Precision: The proportion of values selected by the model that should be selected. \n",
    "#Precision is penalized by having more false positives.\n",
    "#Recall: The proportion of values that should be selected, that are actually selected by the model. Recall is penalized by having more false negatives.\n",
    "#F1 score: The harmonic mean of precision and recall."
   ]
  },
  {
   "cell_type": "markdown",
   "metadata": {},
   "source": [
    "### Now pick a model of your choice and evaluate its accuracy."
   ]
  },
  {
   "cell_type": "code",
   "execution_count": 340,
   "metadata": {},
   "outputs": [
    {
     "data": {
      "text/html": [
       "<div>\n",
       "<style scoped>\n",
       "    .dataframe tbody tr th:only-of-type {\n",
       "        vertical-align: middle;\n",
       "    }\n",
       "\n",
       "    .dataframe tbody tr th {\n",
       "        vertical-align: top;\n",
       "    }\n",
       "\n",
       "    .dataframe thead th {\n",
       "        text-align: right;\n",
       "    }\n",
       "</style>\n",
       "<table border=\"1\" class=\"dataframe\">\n",
       "  <thead>\n",
       "    <tr style=\"text-align: right;\">\n",
       "      <th></th>\n",
       "      <th>actual</th>\n",
       "      <th>predicted</th>\n",
       "    </tr>\n",
       "  </thead>\n",
       "  <tbody>\n",
       "    <tr>\n",
       "      <th>33913</th>\n",
       "      <td>1</td>\n",
       "      <td>1</td>\n",
       "    </tr>\n",
       "    <tr>\n",
       "      <th>5466</th>\n",
       "      <td>1</td>\n",
       "      <td>1</td>\n",
       "    </tr>\n",
       "    <tr>\n",
       "      <th>178668</th>\n",
       "      <td>1</td>\n",
       "      <td>0</td>\n",
       "    </tr>\n",
       "    <tr>\n",
       "      <th>5853</th>\n",
       "      <td>1</td>\n",
       "      <td>0</td>\n",
       "    </tr>\n",
       "    <tr>\n",
       "      <th>6706</th>\n",
       "      <td>1</td>\n",
       "      <td>0</td>\n",
       "    </tr>\n",
       "    <tr>\n",
       "      <th>141635</th>\n",
       "      <td>1</td>\n",
       "      <td>1</td>\n",
       "    </tr>\n",
       "    <tr>\n",
       "      <th>6706</th>\n",
       "      <td>1</td>\n",
       "      <td>0</td>\n",
       "    </tr>\n",
       "    <tr>\n",
       "      <th>151658</th>\n",
       "      <td>1</td>\n",
       "      <td>1</td>\n",
       "    </tr>\n",
       "    <tr>\n",
       "      <th>18772</th>\n",
       "      <td>1</td>\n",
       "      <td>1</td>\n",
       "    </tr>\n",
       "    <tr>\n",
       "      <th>49825</th>\n",
       "      <td>1</td>\n",
       "      <td>1</td>\n",
       "    </tr>\n",
       "    <tr>\n",
       "      <th>5123</th>\n",
       "      <td>1</td>\n",
       "      <td>1</td>\n",
       "    </tr>\n",
       "    <tr>\n",
       "      <th>136420</th>\n",
       "      <td>1</td>\n",
       "      <td>0</td>\n",
       "    </tr>\n",
       "    <tr>\n",
       "      <th>36692</th>\n",
       "      <td>1</td>\n",
       "      <td>1</td>\n",
       "    </tr>\n",
       "    <tr>\n",
       "      <th>49885</th>\n",
       "      <td>1</td>\n",
       "      <td>1</td>\n",
       "    </tr>\n",
       "    <tr>\n",
       "      <th>174585</th>\n",
       "      <td>1</td>\n",
       "      <td>1</td>\n",
       "    </tr>\n",
       "    <tr>\n",
       "      <th>12215</th>\n",
       "      <td>1</td>\n",
       "      <td>0</td>\n",
       "    </tr>\n",
       "    <tr>\n",
       "      <th>5559</th>\n",
       "      <td>1</td>\n",
       "      <td>1</td>\n",
       "    </tr>\n",
       "    <tr>\n",
       "      <th>4104</th>\n",
       "      <td>1</td>\n",
       "      <td>1</td>\n",
       "    </tr>\n",
       "    <tr>\n",
       "      <th>7002</th>\n",
       "      <td>1</td>\n",
       "      <td>1</td>\n",
       "    </tr>\n",
       "    <tr>\n",
       "      <th>6707</th>\n",
       "      <td>1</td>\n",
       "      <td>1</td>\n",
       "    </tr>\n",
       "    <tr>\n",
       "      <th>33913</th>\n",
       "      <td>1</td>\n",
       "      <td>1</td>\n",
       "    </tr>\n",
       "    <tr>\n",
       "      <th>47144</th>\n",
       "      <td>1</td>\n",
       "      <td>0</td>\n",
       "    </tr>\n",
       "    <tr>\n",
       "      <th>12468</th>\n",
       "      <td>1</td>\n",
       "      <td>0</td>\n",
       "    </tr>\n",
       "    <tr>\n",
       "      <th>9284</th>\n",
       "      <td>1</td>\n",
       "      <td>1</td>\n",
       "    </tr>\n",
       "    <tr>\n",
       "      <th>6584</th>\n",
       "      <td>1</td>\n",
       "      <td>1</td>\n",
       "    </tr>\n",
       "    <tr>\n",
       "      <th>5558</th>\n",
       "      <td>1</td>\n",
       "      <td>1</td>\n",
       "    </tr>\n",
       "    <tr>\n",
       "      <th>151658</th>\n",
       "      <td>1</td>\n",
       "      <td>1</td>\n",
       "    </tr>\n",
       "    <tr>\n",
       "      <th>6898</th>\n",
       "      <td>1</td>\n",
       "      <td>1</td>\n",
       "    </tr>\n",
       "    <tr>\n",
       "      <th>10218</th>\n",
       "      <td>1</td>\n",
       "      <td>1</td>\n",
       "    </tr>\n",
       "    <tr>\n",
       "      <th>99371</th>\n",
       "      <td>1</td>\n",
       "      <td>1</td>\n",
       "    </tr>\n",
       "    <tr>\n",
       "      <th>4443</th>\n",
       "      <td>1</td>\n",
       "      <td>1</td>\n",
       "    </tr>\n",
       "    <tr>\n",
       "      <th>12214</th>\n",
       "      <td>1</td>\n",
       "      <td>1</td>\n",
       "    </tr>\n",
       "    <tr>\n",
       "      <th>2302</th>\n",
       "      <td>1</td>\n",
       "      <td>1</td>\n",
       "    </tr>\n",
       "    <tr>\n",
       "      <th>33913</th>\n",
       "      <td>1</td>\n",
       "      <td>1</td>\n",
       "    </tr>\n",
       "    <tr>\n",
       "      <th>5467</th>\n",
       "      <td>1</td>\n",
       "      <td>1</td>\n",
       "    </tr>\n",
       "    <tr>\n",
       "      <th>10396</th>\n",
       "      <td>1</td>\n",
       "      <td>1</td>\n",
       "    </tr>\n",
       "    <tr>\n",
       "      <th>12215</th>\n",
       "      <td>1</td>\n",
       "      <td>0</td>\n",
       "    </tr>\n",
       "    <tr>\n",
       "      <th>4857</th>\n",
       "      <td>1</td>\n",
       "      <td>1</td>\n",
       "    </tr>\n",
       "    <tr>\n",
       "      <th>5746</th>\n",
       "      <td>1</td>\n",
       "      <td>1</td>\n",
       "    </tr>\n",
       "    <tr>\n",
       "      <th>196776</th>\n",
       "      <td>1</td>\n",
       "      <td>1</td>\n",
       "    </tr>\n",
       "    <tr>\n",
       "      <th>72931</th>\n",
       "      <td>1</td>\n",
       "      <td>1</td>\n",
       "    </tr>\n",
       "    <tr>\n",
       "      <th>3060</th>\n",
       "      <td>1</td>\n",
       "      <td>1</td>\n",
       "    </tr>\n",
       "    <tr>\n",
       "      <th>4776</th>\n",
       "      <td>1</td>\n",
       "      <td>1</td>\n",
       "    </tr>\n",
       "    <tr>\n",
       "      <th>4667</th>\n",
       "      <td>1</td>\n",
       "      <td>1</td>\n",
       "    </tr>\n",
       "    <tr>\n",
       "      <th>6703</th>\n",
       "      <td>1</td>\n",
       "      <td>1</td>\n",
       "    </tr>\n",
       "    <tr>\n",
       "      <th>5123</th>\n",
       "      <td>1</td>\n",
       "      <td>1</td>\n",
       "    </tr>\n",
       "    <tr>\n",
       "      <th>3060</th>\n",
       "      <td>1</td>\n",
       "      <td>1</td>\n",
       "    </tr>\n",
       "    <tr>\n",
       "      <th>174585</th>\n",
       "      <td>1</td>\n",
       "      <td>1</td>\n",
       "    </tr>\n",
       "    <tr>\n",
       "      <th>33473</th>\n",
       "      <td>1</td>\n",
       "      <td>1</td>\n",
       "    </tr>\n",
       "    <tr>\n",
       "      <th>174584</th>\n",
       "      <td>1</td>\n",
       "      <td>1</td>\n",
       "    </tr>\n",
       "    <tr>\n",
       "      <th>47145</th>\n",
       "      <td>1</td>\n",
       "      <td>1</td>\n",
       "    </tr>\n",
       "    <tr>\n",
       "      <th>7002</th>\n",
       "      <td>1</td>\n",
       "      <td>1</td>\n",
       "    </tr>\n",
       "    <tr>\n",
       "      <th>4775</th>\n",
       "      <td>1</td>\n",
       "      <td>1</td>\n",
       "    </tr>\n",
       "    <tr>\n",
       "      <th>7030</th>\n",
       "      <td>1</td>\n",
       "      <td>1</td>\n",
       "    </tr>\n",
       "  </tbody>\n",
       "</table>\n",
       "</div>"
      ],
      "text/plain": [
       "        actual  predicted\n",
       "33913        1          1\n",
       "5466         1          1\n",
       "178668       1          0\n",
       "5853         1          0\n",
       "6706         1          0\n",
       "141635       1          1\n",
       "6706         1          0\n",
       "151658       1          1\n",
       "18772        1          1\n",
       "49825        1          1\n",
       "5123         1          1\n",
       "136420       1          0\n",
       "36692        1          1\n",
       "49885        1          1\n",
       "174585       1          1\n",
       "12215        1          0\n",
       "5559         1          1\n",
       "4104         1          1\n",
       "7002         1          1\n",
       "6707         1          1\n",
       "33913        1          1\n",
       "47144        1          0\n",
       "12468        1          0\n",
       "9284         1          1\n",
       "6584         1          1\n",
       "5558         1          1\n",
       "151658       1          1\n",
       "6898         1          1\n",
       "10218        1          1\n",
       "99371        1          1\n",
       "4443         1          1\n",
       "12214        1          1\n",
       "2302         1          1\n",
       "33913        1          1\n",
       "5467         1          1\n",
       "10396        1          1\n",
       "12215        1          0\n",
       "4857         1          1\n",
       "5746         1          1\n",
       "196776       1          1\n",
       "72931        1          1\n",
       "3060         1          1\n",
       "4776         1          1\n",
       "4667         1          1\n",
       "6703         1          1\n",
       "5123         1          1\n",
       "3060         1          1\n",
       "174585       1          1\n",
       "33473        1          1\n",
       "174584       1          1\n",
       "47145        1          1\n",
       "7002         1          1\n",
       "4775         1          1\n",
       "7030         1          1"
      ]
     },
     "execution_count": 340,
     "metadata": {},
     "output_type": "execute_result"
    }
   ],
   "source": [
    "from sklearn.tree import DecisionTreeClassifier\n",
    "from sklearn.metrics import f1_score\n",
    "from sklearn.metrics import accuracy_score\n",
    "\n",
    "dt_clf = DecisionTreeClassifier(random_state=1)\n",
    "dt_clf = dt_clf.fit(X_train_res,y_train_res)\n",
    "y_pred = dt_clf.predict(X_test)\n",
    "\n",
    "result = pd.DataFrame({'actual':y_test['Fraud'], 'predicted':y_pred})\n",
    "result[result['actual']==1]"
   ]
  },
  {
   "cell_type": "code",
   "execution_count": 330,
   "metadata": {},
   "outputs": [
    {
     "name": "stdout",
     "output_type": "stream",
     "text": [
      "              precision    recall  f1-score   support\n",
      "\n",
      "           0       1.00      1.00      1.00     59946\n",
      "           1       0.64      0.83      0.73        54\n",
      "\n",
      "    accuracy                           1.00     60000\n",
      "   macro avg       0.82      0.92      0.86     60000\n",
      "weighted avg       1.00      1.00      1.00     60000\n",
      "\n",
      "AUC: 0.9164581456644314\n"
     ]
    }
   ],
   "source": [
    "from sklearn import metrics \n",
    "\n",
    "print(metrics.classification_report(y_test, y_pred))\n",
    "\n",
    "fpr, tpr, thresholds = metrics.roc_curve(y_test, y_pred)\n",
    "print('AUC:', metrics.auc(fpr, tpr))"
   ]
  },
  {
   "cell_type": "code",
   "execution_count": 334,
   "metadata": {},
   "outputs": [],
   "source": [
    "def plot_confusion_matrix(cm, classes=None, title='Confusion matrix'):\n",
    "    \"\"\"Plots a confusion matrix.\"\"\"\n",
    "    if classes is not None:\n",
    "        sns.heatmap(cm, cmap=\"YlGnBu\", xticklabels=classes, yticklabels=classes, vmin=0., vmax=1., annot=True, annot_kws={'size':50})\n",
    "    else:\n",
    "        sns.heatmap(cm, vmin=0., vmax=1.)\n",
    "    plt.title(title)\n",
    "    plt.ylabel('True label')\n",
    "    plt.xlabel('Predicted label')"
   ]
  },
  {
   "cell_type": "code",
   "execution_count": 343,
   "metadata": {},
   "outputs": [
    {
     "data": {
      "text/html": [
       "<div>\n",
       "<style scoped>\n",
       "    .dataframe tbody tr th:only-of-type {\n",
       "        vertical-align: middle;\n",
       "    }\n",
       "\n",
       "    .dataframe tbody tr th {\n",
       "        vertical-align: top;\n",
       "    }\n",
       "\n",
       "    .dataframe thead th {\n",
       "        text-align: right;\n",
       "    }\n",
       "</style>\n",
       "<table border=\"1\" class=\"dataframe\">\n",
       "  <thead>\n",
       "    <tr style=\"text-align: right;\">\n",
       "      <th></th>\n",
       "      <th>features</th>\n",
       "      <th>importance</th>\n",
       "    </tr>\n",
       "  </thead>\n",
       "  <tbody>\n",
       "    <tr>\n",
       "      <th>0</th>\n",
       "      <td>Time</td>\n",
       "      <td>0.334927</td>\n",
       "    </tr>\n",
       "    <tr>\n",
       "      <th>2</th>\n",
       "      <td>Origin_Balance_1</td>\n",
       "      <td>0.160275</td>\n",
       "    </tr>\n",
       "    <tr>\n",
       "      <th>5</th>\n",
       "      <td>Recipient_Balance_2</td>\n",
       "      <td>0.126126</td>\n",
       "    </tr>\n",
       "    <tr>\n",
       "      <th>11</th>\n",
       "      <td>Transaction_type_TRANSFER</td>\n",
       "      <td>0.116845</td>\n",
       "    </tr>\n",
       "    <tr>\n",
       "      <th>6</th>\n",
       "      <td>Merchant-Recipient</td>\n",
       "      <td>0.080753</td>\n",
       "    </tr>\n",
       "    <tr>\n",
       "      <th>3</th>\n",
       "      <td>Origin_Balance_2</td>\n",
       "      <td>0.057110</td>\n",
       "    </tr>\n",
       "    <tr>\n",
       "      <th>1</th>\n",
       "      <td>Amount</td>\n",
       "      <td>0.045108</td>\n",
       "    </tr>\n",
       "    <tr>\n",
       "      <th>4</th>\n",
       "      <td>Recipient_Balance_1</td>\n",
       "      <td>0.042247</td>\n",
       "    </tr>\n",
       "    <tr>\n",
       "      <th>7</th>\n",
       "      <td>Transaction_type_CASH_IN</td>\n",
       "      <td>0.022741</td>\n",
       "    </tr>\n",
       "    <tr>\n",
       "      <th>10</th>\n",
       "      <td>Transaction_type_PAYMENT</td>\n",
       "      <td>0.009756</td>\n",
       "    </tr>\n",
       "    <tr>\n",
       "      <th>9</th>\n",
       "      <td>Transaction_type_DEBIT</td>\n",
       "      <td>0.003707</td>\n",
       "    </tr>\n",
       "    <tr>\n",
       "      <th>8</th>\n",
       "      <td>Transaction_type_CASH_OUT</td>\n",
       "      <td>0.000407</td>\n",
       "    </tr>\n",
       "  </tbody>\n",
       "</table>\n",
       "</div>"
      ],
      "text/plain": [
       "                     features  importance\n",
       "0                        Time    0.334927\n",
       "2            Origin_Balance_1    0.160275\n",
       "5         Recipient_Balance_2    0.126126\n",
       "11  Transaction_type_TRANSFER    0.116845\n",
       "6          Merchant-Recipient    0.080753\n",
       "3            Origin_Balance_2    0.057110\n",
       "1                      Amount    0.045108\n",
       "4         Recipient_Balance_1    0.042247\n",
       "7    Transaction_type_CASH_IN    0.022741\n",
       "10   Transaction_type_PAYMENT    0.009756\n",
       "9      Transaction_type_DEBIT    0.003707\n",
       "8   Transaction_type_CASH_OUT    0.000407"
      ]
     },
     "execution_count": 343,
     "metadata": {},
     "output_type": "execute_result"
    }
   ],
   "source": [
    "fi = pd.DataFrame({'features':X_train_res.columns,'importance':dt_clf.feature_importances_}).sort_values(by=['importance'], ascending=False)\n",
    "fi"
   ]
  },
  {
   "cell_type": "markdown",
   "metadata": {},
   "source": [
    "### Which model worked better and how do you know?"
   ]
  },
  {
   "cell_type": "code",
   "execution_count": 2,
   "metadata": {},
   "outputs": [],
   "source": [
    "# Your response here"
   ]
  },
  {
   "cell_type": "markdown",
   "metadata": {},
   "source": [
    "### Note: before doing the first commit, make sure you don't include the large csv file, either by adding it to .gitignore, or by deleting it."
   ]
  }
 ],
 "metadata": {
  "kernelspec": {
   "display_name": "Python 3",
   "language": "python",
   "name": "python3"
  },
  "language_info": {
   "codemirror_mode": {
    "name": "ipython",
    "version": 3
   },
   "file_extension": ".py",
   "mimetype": "text/x-python",
   "name": "python",
   "nbconvert_exporter": "python",
   "pygments_lexer": "ipython3",
   "version": "3.8.3"
  }
 },
 "nbformat": 4,
 "nbformat_minor": 4
}
